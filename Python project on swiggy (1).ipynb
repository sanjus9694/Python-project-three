{
 "cells": [
  {
   "cell_type": "code",
   "execution_count": 1,
   "id": "3e40309e",
   "metadata": {},
   "outputs": [],
   "source": [
    "import numpy as np\n",
    "import pandas as pd\n",
    "import matplotlib.pyplot as plt\n",
    "import seaborn as sns"
   ]
  },
  {
   "cell_type": "code",
   "execution_count": 2,
   "id": "15af130c",
   "metadata": {},
   "outputs": [
    {
     "data": {
      "text/html": [
       "<div>\n",
       "<style scoped>\n",
       "    .dataframe tbody tr th:only-of-type {\n",
       "        vertical-align: middle;\n",
       "    }\n",
       "\n",
       "    .dataframe tbody tr th {\n",
       "        vertical-align: top;\n",
       "    }\n",
       "\n",
       "    .dataframe thead th {\n",
       "        text-align: right;\n",
       "    }\n",
       "</style>\n",
       "<table border=\"1\" class=\"dataframe\">\n",
       "  <thead>\n",
       "    <tr style=\"text-align: right;\">\n",
       "      <th></th>\n",
       "      <th>ID</th>\n",
       "      <th>Area</th>\n",
       "      <th>City</th>\n",
       "      <th>Restaurant</th>\n",
       "      <th>Unnamed: 4</th>\n",
       "      <th>Price</th>\n",
       "      <th>Avg ratings</th>\n",
       "      <th>Total ratings</th>\n",
       "      <th>Food type</th>\n",
       "      <th>Address</th>\n",
       "      <th>Delivery time</th>\n",
       "    </tr>\n",
       "  </thead>\n",
       "  <tbody>\n",
       "    <tr>\n",
       "      <th>0</th>\n",
       "      <td>211</td>\n",
       "      <td>Koramangala</td>\n",
       "      <td>Bangalore</td>\n",
       "      <td>Tandoor Hut</td>\n",
       "      <td>NaN</td>\n",
       "      <td>3,00</td>\n",
       "      <td>4.4/5</td>\n",
       "      <td>100.0</td>\n",
       "      <td>Biryani,Chinese,North Indian,South Indian</td>\n",
       "      <td>5Th Block</td>\n",
       "      <td>59</td>\n",
       "    </tr>\n",
       "    <tr>\n",
       "      <th>1</th>\n",
       "      <td>221</td>\n",
       "      <td>Koramangala</td>\n",
       "      <td>Bangalore</td>\n",
       "      <td>Tunday Kababi</td>\n",
       "      <td>NaN</td>\n",
       "      <td>3,00</td>\n",
       "      <td>4.1</td>\n",
       "      <td>100.0</td>\n",
       "      <td>Mughlai,Lucknowi</td>\n",
       "      <td>5Th Block</td>\n",
       "      <td>56</td>\n",
       "    </tr>\n",
       "    <tr>\n",
       "      <th>2</th>\n",
       "      <td>246</td>\n",
       "      <td>Jogupalya</td>\n",
       "      <td>Bangalore</td>\n",
       "      <td>Kim Lee</td>\n",
       "      <td>NaN</td>\n",
       "      <td>650</td>\n",
       "      <td>4.4/5</td>\n",
       "      <td>100.0</td>\n",
       "      <td>Chinese</td>\n",
       "      <td>Double Road</td>\n",
       "      <td>50</td>\n",
       "    </tr>\n",
       "    <tr>\n",
       "      <th>3</th>\n",
       "      <td>248</td>\n",
       "      <td>Indiranagar</td>\n",
       "      <td>Bangalore</td>\n",
       "      <td>New Punjabi Hotel</td>\n",
       "      <td>NaN</td>\n",
       "      <td>250</td>\n",
       "      <td>3.9</td>\n",
       "      <td>500.0</td>\n",
       "      <td>North Indian,Punjabi,Tandoor,Chinese</td>\n",
       "      <td>80 Feet Road</td>\n",
       "      <td>57</td>\n",
       "    </tr>\n",
       "    <tr>\n",
       "      <th>4</th>\n",
       "      <td>249</td>\n",
       "      <td>Indiranagar</td>\n",
       "      <td>Bangalore</td>\n",
       "      <td>Nh8</td>\n",
       "      <td>NaN</td>\n",
       "      <td>350</td>\n",
       "      <td>4</td>\n",
       "      <td>50.0</td>\n",
       "      <td>Rajasthani,Gujarati,North Indian,Snacks,Desser...</td>\n",
       "      <td>80 Feet Road</td>\n",
       "      <td>63</td>\n",
       "    </tr>\n",
       "  </tbody>\n",
       "</table>\n",
       "</div>"
      ],
      "text/plain": [
       "    ID         Area       City         Restaurant  Unnamed: 4 Price  \\\n",
       "0  211  Koramangala  Bangalore        Tandoor Hut         NaN  3,00   \n",
       "1  221  Koramangala  Bangalore      Tunday Kababi         NaN  3,00   \n",
       "2  246    Jogupalya  Bangalore            Kim Lee         NaN   650   \n",
       "3  248  Indiranagar  Bangalore  New Punjabi Hotel         NaN   250   \n",
       "4  249  Indiranagar  Bangalore                Nh8         NaN   350   \n",
       "\n",
       "  Avg ratings  Total ratings  \\\n",
       "0       4.4/5          100.0   \n",
       "1         4.1          100.0   \n",
       "2       4.4/5          100.0   \n",
       "3         3.9          500.0   \n",
       "4           4           50.0   \n",
       "\n",
       "                                           Food type       Address  \\\n",
       "0          Biryani,Chinese,North Indian,South Indian     5Th Block   \n",
       "1                                   Mughlai,Lucknowi     5Th Block   \n",
       "2                                            Chinese   Double Road   \n",
       "3               North Indian,Punjabi,Tandoor,Chinese  80 Feet Road   \n",
       "4  Rajasthani,Gujarati,North Indian,Snacks,Desser...  80 Feet Road   \n",
       "\n",
       "   Delivery time  \n",
       "0             59  \n",
       "1             56  \n",
       "2             50  \n",
       "3             57  \n",
       "4             63  "
      ]
     },
     "execution_count": 2,
     "metadata": {},
     "output_type": "execute_result"
    }
   ],
   "source": [
    "df=pd.read_csv(\"H:/sanjeev/swiggy NEW2.csv\")\n",
    "df.head()"
   ]
  },
  {
   "cell_type": "code",
   "execution_count": 3,
   "id": "3cfa9413",
   "metadata": {},
   "outputs": [
    {
     "name": "stdout",
     "output_type": "stream",
     "text": [
      "<class 'pandas.core.frame.DataFrame'>\n",
      "RangeIndex: 8680 entries, 0 to 8679\n",
      "Data columns (total 11 columns):\n",
      " #   Column         Non-Null Count  Dtype  \n",
      "---  ------         --------------  -----  \n",
      " 0   ID             8680 non-null   int64  \n",
      " 1   Area           8680 non-null   object \n",
      " 2   City           8680 non-null   object \n",
      " 3   Restaurant     8680 non-null   object \n",
      " 4   Unnamed: 4     0 non-null      float64\n",
      " 5   Price          8665 non-null   object \n",
      " 6   Avg ratings    8680 non-null   object \n",
      " 7   Total ratings  8666 non-null   float64\n",
      " 8   Food type      8680 non-null   object \n",
      " 9   Address        8680 non-null   object \n",
      " 10  Delivery time  8680 non-null   int64  \n",
      "dtypes: float64(2), int64(2), object(7)\n",
      "memory usage: 746.1+ KB\n"
     ]
    }
   ],
   "source": [
    "df.info()"
   ]
  },
  {
   "cell_type": "code",
   "execution_count": 4,
   "id": "0b28fee2",
   "metadata": {},
   "outputs": [],
   "source": [
    "# dropping unnecessary column\n",
    "df.drop([\"Unnamed: 4\"],axis=1,inplace=True)"
   ]
  },
  {
   "cell_type": "code",
   "execution_count": 5,
   "id": "31250efb",
   "metadata": {},
   "outputs": [
    {
     "data": {
      "text/plain": [
       "ID                0\n",
       "Area              0\n",
       "City              0\n",
       "Restaurant        0\n",
       "Price            15\n",
       "Avg ratings       0\n",
       "Total ratings    14\n",
       "Food type         0\n",
       "Address           0\n",
       "Delivery time     0\n",
       "dtype: int64"
      ]
     },
     "execution_count": 5,
     "metadata": {},
     "output_type": "execute_result"
    }
   ],
   "source": [
    "df.isnull().sum()"
   ]
  },
  {
   "cell_type": "code",
   "execution_count": 6,
   "id": "e19041e6",
   "metadata": {},
   "outputs": [],
   "source": [
    "# filling null values\n",
    "df[\"Total ratings\"].fillna(value=df[\"Total ratings\"].mean(),inplace=True)\n",
    "\n",
    "# we cannot to fill the duplicates in price because there are some strings values so we have to change them into int"
   ]
  },
  {
   "cell_type": "code",
   "execution_count": 7,
   "id": "85371716",
   "metadata": {},
   "outputs": [
    {
     "data": {
      "text/plain": [
       "array(['3,00', '650', '250', '350', '800', '1000', '150', '400', '532',\n",
       "       '500', '290', '1200', '600', '850', '900', '200', '750', '1100',\n",
       "       '450', '550', '700', nan, '1500', '1600', '326', '1400', '100',\n",
       "       '1300', '249', '1700', '299', '599', '220', '120', '193', '499',\n",
       "       '1900', '178', '950', '330', '1', '50', '160', '1800', '2000', '0',\n",
       "       '256', '197', '140', '180', '1250', '20', '260', '99', '30', '240',\n",
       "       '80', '1255', '155', '199', '270', '280', '40', '175', '399',\n",
       "       '2500', '149', '230', '70', '48', '190', '275', '380', '289',\n",
       "       '325', '159', '49', '360', '420', '170', '129', '390', '2', '205',\n",
       "       '493', '196', '355', '398', '110', '620', '10', '105', '320',\n",
       "       '480', '540', '590', '338', '978', '137', '375', '126', '384',\n",
       "       '251', '151', '1650', '85', '15', '65', '130', '60', '640', '225',\n",
       "       '198', '98', '45', '518', '502', '340', '297', '75', '5'],\n",
       "      dtype=object)"
      ]
     },
     "execution_count": 7,
     "metadata": {},
     "output_type": "execute_result"
    }
   ],
   "source": [
    "df[\"Price\"].unique()"
   ]
  },
  {
   "cell_type": "code",
   "execution_count": 8,
   "id": "5b66fecb",
   "metadata": {},
   "outputs": [
    {
     "data": {
      "text/html": [
       "<div>\n",
       "<style scoped>\n",
       "    .dataframe tbody tr th:only-of-type {\n",
       "        vertical-align: middle;\n",
       "    }\n",
       "\n",
       "    .dataframe tbody tr th {\n",
       "        vertical-align: top;\n",
       "    }\n",
       "\n",
       "    .dataframe thead th {\n",
       "        text-align: right;\n",
       "    }\n",
       "</style>\n",
       "<table border=\"1\" class=\"dataframe\">\n",
       "  <thead>\n",
       "    <tr style=\"text-align: right;\">\n",
       "      <th></th>\n",
       "      <th>ID</th>\n",
       "      <th>Area</th>\n",
       "      <th>City</th>\n",
       "      <th>Restaurant</th>\n",
       "      <th>Price</th>\n",
       "      <th>Avg ratings</th>\n",
       "      <th>Total ratings</th>\n",
       "      <th>Food type</th>\n",
       "      <th>Address</th>\n",
       "      <th>Delivery time</th>\n",
       "    </tr>\n",
       "  </thead>\n",
       "  <tbody>\n",
       "    <tr>\n",
       "      <th>0</th>\n",
       "      <td>211</td>\n",
       "      <td>Koramangala</td>\n",
       "      <td>Bangalore</td>\n",
       "      <td>Tandoor Hut</td>\n",
       "      <td>300.0</td>\n",
       "      <td>4.4/5</td>\n",
       "      <td>100.0</td>\n",
       "      <td>Biryani,Chinese,North Indian,South Indian</td>\n",
       "      <td>5Th Block</td>\n",
       "      <td>59</td>\n",
       "    </tr>\n",
       "    <tr>\n",
       "      <th>1</th>\n",
       "      <td>221</td>\n",
       "      <td>Koramangala</td>\n",
       "      <td>Bangalore</td>\n",
       "      <td>Tunday Kababi</td>\n",
       "      <td>300.0</td>\n",
       "      <td>4.1</td>\n",
       "      <td>100.0</td>\n",
       "      <td>Mughlai,Lucknowi</td>\n",
       "      <td>5Th Block</td>\n",
       "      <td>56</td>\n",
       "    </tr>\n",
       "    <tr>\n",
       "      <th>2</th>\n",
       "      <td>246</td>\n",
       "      <td>Jogupalya</td>\n",
       "      <td>Bangalore</td>\n",
       "      <td>Kim Lee</td>\n",
       "      <td>650.0</td>\n",
       "      <td>4.4/5</td>\n",
       "      <td>100.0</td>\n",
       "      <td>Chinese</td>\n",
       "      <td>Double Road</td>\n",
       "      <td>50</td>\n",
       "    </tr>\n",
       "    <tr>\n",
       "      <th>3</th>\n",
       "      <td>248</td>\n",
       "      <td>Indiranagar</td>\n",
       "      <td>Bangalore</td>\n",
       "      <td>New Punjabi Hotel</td>\n",
       "      <td>250.0</td>\n",
       "      <td>3.9</td>\n",
       "      <td>500.0</td>\n",
       "      <td>North Indian,Punjabi,Tandoor,Chinese</td>\n",
       "      <td>80 Feet Road</td>\n",
       "      <td>57</td>\n",
       "    </tr>\n",
       "    <tr>\n",
       "      <th>4</th>\n",
       "      <td>249</td>\n",
       "      <td>Indiranagar</td>\n",
       "      <td>Bangalore</td>\n",
       "      <td>Nh8</td>\n",
       "      <td>350.0</td>\n",
       "      <td>4</td>\n",
       "      <td>50.0</td>\n",
       "      <td>Rajasthani,Gujarati,North Indian,Snacks,Desser...</td>\n",
       "      <td>80 Feet Road</td>\n",
       "      <td>63</td>\n",
       "    </tr>\n",
       "  </tbody>\n",
       "</table>\n",
       "</div>"
      ],
      "text/plain": [
       "    ID         Area       City         Restaurant  Price Avg ratings  \\\n",
       "0  211  Koramangala  Bangalore        Tandoor Hut  300.0       4.4/5   \n",
       "1  221  Koramangala  Bangalore      Tunday Kababi  300.0         4.1   \n",
       "2  246    Jogupalya  Bangalore            Kim Lee  650.0       4.4/5   \n",
       "3  248  Indiranagar  Bangalore  New Punjabi Hotel  250.0         3.9   \n",
       "4  249  Indiranagar  Bangalore                Nh8  350.0           4   \n",
       "\n",
       "   Total ratings                                          Food type  \\\n",
       "0          100.0          Biryani,Chinese,North Indian,South Indian   \n",
       "1          100.0                                   Mughlai,Lucknowi   \n",
       "2          100.0                                            Chinese   \n",
       "3          500.0               North Indian,Punjabi,Tandoor,Chinese   \n",
       "4           50.0  Rajasthani,Gujarati,North Indian,Snacks,Desser...   \n",
       "\n",
       "        Address  Delivery time  \n",
       "0     5Th Block             59  \n",
       "1     5Th Block             56  \n",
       "2   Double Road             50  \n",
       "3  80 Feet Road             57  \n",
       "4  80 Feet Road             63  "
      ]
     },
     "execution_count": 8,
     "metadata": {},
     "output_type": "execute_result"
    }
   ],
   "source": [
    "#removing comma into the price\n",
    "def handlecomma (value):\n",
    "    value=str(value)\n",
    "    if ',' in value:\n",
    "        value=value.replace(',','')\n",
    "        return float(value)\n",
    "    else:\n",
    "        return float(value)\n",
    "df[\"Price\"]=df[\"Price\"].apply(handlecomma)\n",
    "df.head()"
   ]
  },
  {
   "cell_type": "code",
   "execution_count": 9,
   "id": "591f5f46",
   "metadata": {},
   "outputs": [
    {
     "name": "stdout",
     "output_type": "stream",
     "text": [
      "<class 'pandas.core.frame.DataFrame'>\n",
      "RangeIndex: 8680 entries, 0 to 8679\n",
      "Data columns (total 10 columns):\n",
      " #   Column         Non-Null Count  Dtype  \n",
      "---  ------         --------------  -----  \n",
      " 0   ID             8680 non-null   int64  \n",
      " 1   Area           8680 non-null   object \n",
      " 2   City           8680 non-null   object \n",
      " 3   Restaurant     8680 non-null   object \n",
      " 4   Price          8680 non-null   float64\n",
      " 5   Avg ratings    8680 non-null   object \n",
      " 6   Total ratings  8680 non-null   float64\n",
      " 7   Food type      8680 non-null   object \n",
      " 8   Address        8680 non-null   object \n",
      " 9   Delivery time  8680 non-null   int64  \n",
      "dtypes: float64(2), int64(2), object(6)\n",
      "memory usage: 678.2+ KB\n"
     ]
    }
   ],
   "source": [
    "#filling null values of the price by mean of price\n",
    "df[\"Price\"].fillna(value=df[\"Price\"].mean(),inplace=True)\n",
    "df.info()"
   ]
  },
  {
   "cell_type": "code",
   "execution_count": 10,
   "id": "5ef1ab41",
   "metadata": {},
   "outputs": [
    {
     "data": {
      "text/plain": [
       "array(['4.4/5', '4.1', '3.9', '4', '4.5', '4.3', '4.2', '2.9', '3.8',\n",
       "       '4.6', '3.7', '3.2', '2.2', '3.6', '4.7', '3.5', '3', '3.3', '3.4',\n",
       "       '2.8', '4.8', '4.9', '2.6', '2.7', '3.1', '2.5', '2.3', '5', '2',\n",
       "       '2.4'], dtype=object)"
      ]
     },
     "execution_count": 10,
     "metadata": {},
     "output_type": "execute_result"
    }
   ],
   "source": [
    "df[\"Avg ratings\"].unique()"
   ]
  },
  {
   "cell_type": "code",
   "execution_count": 11,
   "id": "ca01abd7",
   "metadata": {},
   "outputs": [
    {
     "data": {
      "text/plain": [
       "0    4.4\n",
       "1    4.1\n",
       "2    4.4\n",
       "3    3.9\n",
       "4    4.0\n",
       "Name: Avg ratings, dtype: float64"
      ]
     },
     "execution_count": 11,
     "metadata": {},
     "output_type": "execute_result"
    }
   ],
   "source": [
    "#handling avg ratings\n",
    "def handlerate(value):\n",
    "    value = str(value).split('/')\n",
    "    value = value[0]\n",
    "    return float(value)\n",
    "df[\"Avg ratings\"]=df[\"Avg ratings\"].apply(handlerate)\n",
    "df[\"Avg ratings\"].head()"
   ]
  },
  {
   "cell_type": "code",
   "execution_count": 12,
   "id": "115f35ed",
   "metadata": {},
   "outputs": [
    {
     "name": "stdout",
     "output_type": "stream",
     "text": [
      "<class 'pandas.core.frame.DataFrame'>\n",
      "RangeIndex: 8680 entries, 0 to 8679\n",
      "Data columns (total 10 columns):\n",
      " #   Column         Non-Null Count  Dtype  \n",
      "---  ------         --------------  -----  \n",
      " 0   ID             8680 non-null   int64  \n",
      " 1   Area           8680 non-null   object \n",
      " 2   City           8680 non-null   object \n",
      " 3   Restaurant     8680 non-null   object \n",
      " 4   Price          8680 non-null   float64\n",
      " 5   Avg ratings    8680 non-null   float64\n",
      " 6   Total ratings  8680 non-null   float64\n",
      " 7   Food type      8680 non-null   object \n",
      " 8   Address        8680 non-null   object \n",
      " 9   Delivery time  8680 non-null   int64  \n",
      "dtypes: float64(3), int64(2), object(5)\n",
      "memory usage: 678.2+ KB\n"
     ]
    }
   ],
   "source": [
    "df.info()"
   ]
  },
  {
   "cell_type": "code",
   "execution_count": 13,
   "id": "43537f59",
   "metadata": {},
   "outputs": [
    {
     "data": {
      "text/plain": [
       "Sanjay Nagar New Bel Road               1\n",
       "Near Lal Gate Ramlal Bazarsapuipara     1\n",
       "Nr Udhna Bus Depot                      1\n",
       "Golf Gardens  Tollygunge                1\n",
       "Cambridge Layout                        1\n",
       "                                       ..\n",
       "Alwarpet                               42\n",
       "Andheri East                           42\n",
       "Dumdum                                 43\n",
       "Matunga Wadala                         43\n",
       "Jadavpur                               46\n",
       "Name: Address, Length: 2300, dtype: int64"
      ]
     },
     "execution_count": 13,
     "metadata": {},
     "output_type": "execute_result"
    }
   ],
   "source": [
    "#handing outliers\n",
    "ad=df[\"Address\"].value_counts(ascending=True)\n",
    "num_address_below50=ad[ad<50]\n",
    "num_address_below50"
   ]
  },
  {
   "cell_type": "code",
   "execution_count": 16,
   "id": "812249d6",
   "metadata": {},
   "outputs": [
    {
     "data": {
      "text/plain": [
       "others                     5220\n",
       "Rohini                      229\n",
       "Chembur                     166\n",
       "Kothrud                     158\n",
       "Kurla                       138\n",
       "Navrangpura                 136\n",
       "Scruz Bandra East           126\n",
       "Salt Lake                   120\n",
       "Marol Sakinaka              116\n",
       "Central Bangalore           116\n",
       "Himayath Nagar              113\n",
       "South Kolkata               111\n",
       "Vastrapur                   105\n",
       "Indiranagar                 103\n",
       "Central Kolkata             103\n",
       "Kothapet & Dilsukhnagar     101\n",
       "Annanagar                    99\n",
       "Shivaji Nagar                94\n",
       "Koramangala                  94\n",
       "Perambur                     91\n",
       "Banjara Hills                80\n",
       "Powai                        71\n",
       "Lake Town                    68\n",
       "Nungambakkam                 64\n",
       "Ghatkopar Vikhroli           58\n",
       "Nallakunta & Vidyanagar      57\n",
       "Piplod                       57\n",
       "Athwa                        56\n",
       "T Nagar                      55\n",
       "Kondhwa                      55\n",
       "Koregaon Park                54\n",
       "Burrabazar                   54\n",
       "Royapettah                   53\n",
       "Adajan                       53\n",
       "Basavanagudi                 52\n",
       "Maninagar                    52\n",
       "Swargate                     51\n",
       "Ruby Area                    51\n",
       "Alipore                      50\n",
       "Paschim Vihar                50\n",
       "Name: Address, dtype: int64"
      ]
     },
     "execution_count": 16,
     "metadata": {},
     "output_type": "execute_result"
    }
   ],
   "source": [
    "def handle_address (value):\n",
    "    if value in num_address_below50:\n",
    "        return \"others\"\n",
    "    else:\n",
    "        return value\n",
    "df[\"Address\"]=df[\"Address\"].apply(handle_address)\n",
    "df[\"Address\"].value_counts()"
   ]
  },
  {
   "cell_type": "code",
   "execution_count": 14,
   "id": "da3111e1",
   "metadata": {},
   "outputs": [
    {
     "name": "stdout",
     "output_type": "stream",
     "text": [
      "<class 'pandas.core.frame.DataFrame'>\n",
      "RangeIndex: 8680 entries, 0 to 8679\n",
      "Data columns (total 10 columns):\n",
      " #   Column         Non-Null Count  Dtype  \n",
      "---  ------         --------------  -----  \n",
      " 0   ID             8680 non-null   int64  \n",
      " 1   Area           8680 non-null   object \n",
      " 2   City           8680 non-null   object \n",
      " 3   Restaurant     8680 non-null   object \n",
      " 4   Price          8680 non-null   float64\n",
      " 5   Avg ratings    8680 non-null   float64\n",
      " 6   Total ratings  8680 non-null   float64\n",
      " 7   Food type      8680 non-null   object \n",
      " 8   Address        8680 non-null   object \n",
      " 9   Delivery time  8680 non-null   int64  \n",
      "dtypes: float64(3), int64(2), object(5)\n",
      "memory usage: 678.2+ KB\n"
     ]
    }
   ],
   "source": [
    "df.info()"
   ]
  },
  {
   "cell_type": "markdown",
   "id": "e7a221b1",
   "metadata": {},
   "source": [
    "# Data visualization"
   ]
  },
  {
   "cell_type": "code",
   "execution_count": 15,
   "id": "cf154536",
   "metadata": {},
   "outputs": [
    {
     "data": {
      "image/png": "[encoded data removed]",
      "text/plain": [
       "<Figure size 2000x600 with 1 Axes>"
      ]
     },
     "metadata": {},
     "output_type": "display_data"
    }
   ],
   "source": [
    "#chart 1\n",
    "plt.figure(figsize=(20,6))\n",
    "a=sns.countplot(x=\"City\",data=df)\n",
    "plt.title(\"Number of swiggy restaurant by city\")\n",
    "for bars in a.containers:\n",
    "    a.bar_label(bars)\n",
    "\n"
   ]
  },
  {
   "cell_type": "code",
   "execution_count": 64,
   "id": "8ad42e14",
   "metadata": {},
   "outputs": [
    {
     "data": {
      "image/png": "[encoded data removed]",
      "text/plain": [
       "<Figure size 2400x800 with 1 Axes>"
      ]
     },
     "metadata": {},
     "output_type": "display_data"
    }
   ],
   "source": [
    "#chart 2\n",
    "a=df[[\"Price\",\"Food type\"]].sort_values(by=\"Price\",ascending=False).head(10)\n",
    "plt.figure(figsize=(24,8))\n",
    "plt.title(\"top 10 expensive foodtypes\")\n",
    "s=sns.barplot(x=\"Food type\",y=\"Price\",data=a)\n",
    "for bars in s.containers:\n",
    "    s.bar_label(bars)"
   ]
  },
  {
   "cell_type": "code",
   "execution_count": 17,
   "id": "fbab4d3e",
   "metadata": {},
   "outputs": [
    {
     "data": {
      "image/png": "[encoded data removed]",
      "text/plain": [
       "<Figure size 2000x600 with 1 Axes>"
      ]
     },
     "metadata": {},
     "output_type": "display_data"
    }
   ],
   "source": [
    "#chart 3\n",
    "j=df[[\"Avg ratings\",\"Restaurant\"]].sort_values(by=\"Avg ratings\", ascending=False).head(10)\n",
    "plt.figure(figsize=(20,6))\n",
    "plt.title(\"top 10 rated restaurants\")\n",
    "sns.barplot(x=\"Restaurant\",y=\"Avg ratings\",data=j)\n",
    "plt.show()"
   ]
  },
  {
   "cell_type": "code",
   "execution_count": 18,
   "id": "5a1aa3f6",
   "metadata": {},
   "outputs": [
    {
     "data": {
      "image/png": "[encoded data removed]",
      "text/plain": [
       "<Figure size 1400x600 with 1 Axes>"
      ]
     },
     "metadata": {},
     "output_type": "display_data"
    }
   ],
   "source": [
    "#chart 4\n",
    "t=df.groupby([\"Restaurant\"], as_index=False) [\"Total ratings\"].sum().sort_values(by=\"Total ratings\",ascending=False).head(10)\n",
    "plt.figure(figsize=(14,6))\n",
    "y=sns.barplot(x=\"Restaurant\",y=\"Total ratings\",data=t)\n",
    "plt.title(\"Highest total ratings restaurants\")\n",
    "for bars in y.containers:\n",
    "    y.bar_label(bars)"
   ]
  },
  {
   "cell_type": "code",
   "execution_count": 23,
   "id": "b63d0a10",
   "metadata": {},
   "outputs": [
    {
     "data": {
      "text/plain": [
       "Index(['ID', 'Area', 'City', 'Restaurant', 'Price', 'Avg ratings',\n",
       "       'Total ratings', 'Food type', 'Address', 'Delivery time'],\n",
       "      dtype='object')"
      ]
     },
     "execution_count": 23,
     "metadata": {},
     "output_type": "execute_result"
    }
   ],
   "source": [
    "df.columns"
   ]
  },
  {
   "cell_type": "code",
   "execution_count": 57,
   "id": "6893d0f0",
   "metadata": {},
   "outputs": [
    {
     "data": {
      "image/png": "[encoded data removed]",
      "text/plain": [
       "<Figure size 2000x600 with 1 Axes>"
      ]
     },
     "metadata": {},
     "output_type": "display_data"
    }
   ],
   "source": [
    "#chart 5\n",
    "f=df[df[\"Delivery time\"]<30]\n",
    "r=f[[\"Restaurant\",\"Delivery time\"]].sort_values(by=\"Delivery time\", ascending=True).head(10)\n",
    "plt.figure(figsize=(20,6))\n",
    "plt.title(\"top ten restarant (oder in below 30 minutes)\")\n",
    "s=sns.barplot(x=\"Restaurant\",y=\"Delivery time\",data=r)\n",
    "for bars in s.containers:\n",
    "    s.bar_label(bars)"
   ]
  },
  {
   "cell_type": "code",
   "execution_count": null,
   "id": "de16b5b8",
   "metadata": {},
   "outputs": [],
   "source": [
    "# conclusion\n",
    "# As per the chart one, it can be seen that Kolkata city is having the maximum number of the restaurants while Surat city only has 512 restaurants.\n",
    "# The most expensive food items are in the range of 1900-2500 in the menu list of Swiggy. Three products that are more expensive are the Japanese food, North Indian food and Mughal Biryani.\n",
    "# The highest total ratings are of Shah house restaurant with the 15000 ratings. \n",
    "# In the context of delivery time, the lower delivery time is taken only by Wah ji wah restaurant that is below 21 minutes. \n"
   ]
  },
  {
   "cell_type": "code",
   "execution_count": null,
   "id": "4d62b9dd",
   "metadata": {},
   "outputs": [],
   "source": []
  },
  {
   "cell_type": "code",
   "execution_count": null,
   "id": "8c004730",
   "metadata": {},
   "outputs": [],
   "source": []
  },
  {
   "cell_type": "code",
   "execution_count": null,
   "id": "988e9b5d",
   "metadata": {},
   "outputs": [],
   "source": []
  },
  {
   "cell_type": "code",
   "execution_count": null,
   "id": "1e447461",
   "metadata": {},
   "outputs": [],
   "source": []
  },
  {
   "cell_type": "code",
   "execution_count": null,
   "id": "cd18a078",
   "metadata": {},
   "outputs": [],
   "source": []
  },
  {
   "cell_type": "code",
   "execution_count": null,
   "id": "28e9d9c9",
   "metadata": {},
   "outputs": [],
   "source": []
  },
  {
   "cell_type": "code",
   "execution_count": null,
   "id": "fae68e9b",
   "metadata": {},
   "outputs": [],
   "source": []
  },
  {
   "cell_type": "code",
   "execution_count": null,
   "id": "cb626d29",
   "metadata": {},
   "outputs": [],
   "source": []
  },
  {
   "cell_type": "code",
   "execution_count": null,
   "id": "a2f57179",
   "metadata": {},
   "outputs": [],
   "source": []
  },
  {
   "cell_type": "code",
   "execution_count": null,
   "id": "350f0665",
   "metadata": {},
   "outputs": [],
   "source": []
  },
  {
   "cell_type": "code",
   "execution_count": null,
   "id": "a3863936",
   "metadata": {},
   "outputs": [],
   "source": []
  },
  {
   "cell_type": "code",
   "execution_count": null,
   "id": "7c4ade05",
   "metadata": {},
   "outputs": [],
   "source": []
  },
  {
   "cell_type": "code",
   "execution_count": null,
   "id": "adebb7d2",
   "metadata": {},
   "outputs": [],
   "source": []
  },
  {
   "cell_type": "code",
   "execution_count": null,
   "id": "18e43927",
   "metadata": {},
   "outputs": [],
   "source": []
  },
  {
   "cell_type": "code",
   "execution_count": null,
   "id": "035953c7",
   "metadata": {},
   "outputs": [],
   "source": []
  },
  {
   "cell_type": "code",
   "execution_count": null,
   "id": "139ea46d",
   "metadata": {},
   "outputs": [],
   "source": []
  },
  {
   "cell_type": "code",
   "execution_count": null,
   "id": "101477a2",
   "metadata": {},
   "outputs": [],
   "source": []
  },
  {
   "cell_type": "code",
   "execution_count": null,
   "id": "107aeaf9",
   "metadata": {},
   "outputs": [],
   "source": []
  },
  {
   "cell_type": "code",
   "execution_count": null,
   "id": "2725209f",
   "metadata": {},
   "outputs": [],
   "source": []
  },
  {
   "cell_type": "code",
   "execution_count": null,
   "id": "787848f0",
   "metadata": {},
   "outputs": [],
   "source": []
  },
  {
   "cell_type": "code",
   "execution_count": null,
   "id": "a2b99313",
   "metadata": {},
   "outputs": [],
   "source": []
  },
  {
   "cell_type": "code",
   "execution_count": null,
   "id": "e4a6dc9a",
   "metadata": {},
   "outputs": [],
   "source": []
  },
  {
   "cell_type": "code",
   "execution_count": null,
   "id": "9df79407",
   "metadata": {},
   "outputs": [],
   "source": []
  },
  {
   "cell_type": "code",
   "execution_count": null,
   "id": "4a3260a9",
   "metadata": {},
   "outputs": [],
   "source": []
  },
  {
   "cell_type": "code",
   "execution_count": null,
   "id": "3a804dbb",
   "metadata": {},
   "outputs": [],
   "source": []
  },
  {
   "cell_type": "code",
   "execution_count": null,
   "id": "146f7a98",
   "metadata": {},
   "outputs": [],
   "source": []
  },
  {
   "cell_type": "code",
   "execution_count": null,
   "id": "8b98e4b3",
   "metadata": {},
   "outputs": [],
   "source": []
  },
  {
   "cell_type": "code",
   "execution_count": null,
   "id": "bca22fe2",
   "metadata": {},
   "outputs": [],
   "source": []
  },
  {
   "cell_type": "code",
   "execution_count": null,
   "id": "34ca57b6",
   "metadata": {},
   "outputs": [],
   "source": []
  },
  {
   "cell_type": "code",
   "execution_count": null,
   "id": "f9fd0ed0",
   "metadata": {},
   "outputs": [],
   "source": []
  },
  {
   "cell_type": "code",
   "execution_count": null,
   "id": "10cfcc0c",
   "metadata": {},
   "outputs": [],
   "source": []
  },
  {
   "cell_type": "code",
   "execution_count": null,
   "id": "60f25786",
   "metadata": {},
   "outputs": [],
   "source": []
  },
  {
   "cell_type": "code",
   "execution_count": null,
   "id": "26ccd5ab",
   "metadata": {},
   "outputs": [],
   "source": []
  },
  {
   "cell_type": "code",
   "execution_count": null,
   "id": "9cf329cf",
   "metadata": {},
   "outputs": [],
   "source": []
  },
  {
   "cell_type": "code",
   "execution_count": null,
   "id": "cfb9faf4",
   "metadata": {},
   "outputs": [],
   "source": []
  },
  {
   "cell_type": "code",
   "execution_count": null,
   "id": "e615cf5e",
   "metadata": {},
   "outputs": [],
   "source": []
  },
  {
   "cell_type": "code",
   "execution_count": null,
   "id": "410f458c",
   "metadata": {},
   "outputs": [],
   "source": []
  },
  {
   "cell_type": "code",
   "execution_count": null,
   "id": "040731d4",
   "metadata": {},
   "outputs": [],
   "source": []
  },
  {
   "cell_type": "code",
   "execution_count": null,
   "id": "c45e65af",
   "metadata": {},
   "outputs": [],
   "source": []
  },
  {
   "cell_type": "code",
   "execution_count": null,
   "id": "ed6fa8b3",
   "metadata": {},
   "outputs": [],
   "source": []
  },
  {
   "cell_type": "code",
   "execution_count": null,
   "id": "893cf56c",
   "metadata": {},
   "outputs": [],
   "source": []
  },
  {
   "cell_type": "code",
   "execution_count": null,
   "id": "83cecbc6",
   "metadata": {},
   "outputs": [],
   "source": []
  },
  {
   "cell_type": "code",
   "execution_count": null,
   "id": "ae8d006c",
   "metadata": {},
   "outputs": [],
   "source": []
  },
  {
   "cell_type": "code",
   "execution_count": null,
   "id": "53425d73",
   "metadata": {},
   "outputs": [],
   "source": []
  },
  {
   "cell_type": "code",
   "execution_count": null,
   "id": "52210b81",
   "metadata": {},
   "outputs": [],
   "source": []
  },
  {
   "cell_type": "code",
   "execution_count": null,
   "id": "7f1e7651",
   "metadata": {},
   "outputs": [],
   "source": []
  },
  {
   "cell_type": "code",
   "execution_count": null,
   "id": "124e84ef",
   "metadata": {},
   "outputs": [],
   "source": []
  },
  {
   "cell_type": "code",
   "execution_count": null,
   "id": "9edab858",
   "metadata": {},
   "outputs": [],
   "source": []
  },
  {
   "cell_type": "code",
   "execution_count": null,
   "id": "51c62213",
   "metadata": {},
   "outputs": [],
   "source": []
  },
  {
   "cell_type": "code",
   "execution_count": null,
   "id": "3a48d180",
   "metadata": {},
   "outputs": [],
   "source": []
  },
  {
   "cell_type": "code",
   "execution_count": null,
   "id": "90e86f4a",
   "metadata": {},
   "outputs": [],
   "source": []
  },
  {
   "cell_type": "code",
   "execution_count": null,
   "id": "736ac1a9",
   "metadata": {},
   "outputs": [],
   "source": []
  },
  {
   "cell_type": "code",
   "execution_count": null,
   "id": "94cca50b",
   "metadata": {},
   "outputs": [],
   "source": []
  },
  {
   "cell_type": "code",
   "execution_count": null,
   "id": "5b6d8d67",
   "metadata": {},
   "outputs": [],
   "source": []
  },
  {
   "cell_type": "code",
   "execution_count": null,
   "id": "3f94d8f2",
   "metadata": {},
   "outputs": [],
   "source": []
  },
  {
   "cell_type": "code",
   "execution_count": null,
   "id": "287f4976",
   "metadata": {},
   "outputs": [],
   "source": []
  },
  {
   "cell_type": "code",
   "execution_count": null,
   "id": "c1401549",
   "metadata": {},
   "outputs": [],
   "source": []
  },
  {
   "cell_type": "code",
   "execution_count": null,
   "id": "f460136a",
   "metadata": {},
   "outputs": [],
   "source": []
  },
  {
   "cell_type": "code",
   "execution_count": null,
   "id": "6fdc2dff",
   "metadata": {},
   "outputs": [],
   "source": []
  },
  {
   "cell_type": "code",
   "execution_count": null,
   "id": "0466e03a",
   "metadata": {},
   "outputs": [],
   "source": []
  },
  {
   "cell_type": "code",
   "execution_count": null,
   "id": "7c4eb8b5",
   "metadata": {},
   "outputs": [],
   "source": []
  },
  {
   "cell_type": "code",
   "execution_count": null,
   "id": "11faa3d1",
   "metadata": {},
   "outputs": [],
   "source": []
  },
  {
   "cell_type": "code",
   "execution_count": null,
   "id": "0a02ecb7",
   "metadata": {},
   "outputs": [],
   "source": []
  },
  {
   "cell_type": "code",
   "execution_count": null,
   "id": "93a3ccbe",
   "metadata": {},
   "outputs": [],
   "source": []
  },
  {
   "cell_type": "code",
   "execution_count": null,
   "id": "dde98efd",
   "metadata": {},
   "outputs": [],
   "source": []
  },
  {
   "cell_type": "code",
   "execution_count": null,
   "id": "097c2f35",
   "metadata": {},
   "outputs": [],
   "source": []
  },
  {
   "cell_type": "code",
   "execution_count": null,
   "id": "cb165000",
   "metadata": {},
   "outputs": [],
   "source": []
  },
  {
   "cell_type": "code",
   "execution_count": null,
   "id": "f383f900",
   "metadata": {},
   "outputs": [],
   "source": []
  },
  {
   "cell_type": "code",
   "execution_count": null,
   "id": "7d51047e",
   "metadata": {},
   "outputs": [],
   "source": []
  },
  {
   "cell_type": "code",
   "execution_count": null,
   "id": "ced2fabc",
   "metadata": {},
   "outputs": [],
   "source": []
  },
  {
   "cell_type": "code",
   "execution_count": null,
   "id": "19af38c9",
   "metadata": {},
   "outputs": [],
   "source": []
  },
  {
   "cell_type": "code",
   "execution_count": null,
   "id": "a2a2eb0d",
   "metadata": {},
   "outputs": [],
   "source": []
  },
  {
   "cell_type": "code",
   "execution_count": null,
   "id": "3c3f7a2b",
   "metadata": {},
   "outputs": [],
   "source": []
  },
  {
   "cell_type": "code",
   "execution_count": null,
   "id": "1b2dbac1",
   "metadata": {},
   "outputs": [],
   "source": []
  }
 ],
 "metadata": {
  "kernelspec": {
   "display_name": "Python 3 (ipykernel)",
   "language": "python",
   "name": "python3"
  },
  "language_info": {
   "codemirror_mode": {
    "name": "ipython",
    "version": 3
   },
   "file_extension": ".py",
   "mimetype": "text/x-python",
   "name": "python",
   "nbconvert_exporter": "python",
   "pygments_lexer": "ipython3",
   "version": "3.10.9"
  }
 },
 "nbformat": 4,
 "nbformat_minor": 5
}
